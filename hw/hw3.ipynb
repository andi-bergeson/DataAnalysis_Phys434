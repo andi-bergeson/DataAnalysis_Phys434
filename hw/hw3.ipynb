{
 "cells": [
  {
   "cell_type": "code",
   "execution_count": 2,
   "metadata": {},
   "outputs": [],
   "source": [
    "%matplotlib inline\n",
    "import numpy as np\n",
    "import math\n",
    "from scipy import stats, special, signal\n",
    "from matplotlib import pyplot as plt"
   ]
  },
  {
   "cell_type": "markdown",
   "metadata": {},
   "source": [
    "# Problem 1\n",
    "\n",
    "In a dataset of 100 photos wherein 48 are birds and 52 are people, two algorithms sort the photos.\n",
    "\n",
    "1a) Algorithm 1 makes the fewest mistakes, with 8 miscategorizations (92% accuracy), whereas Alg 2 has 12 miscategorizations (88% accuracy).\n",
    "\n",
    "2a) Algorithm 2 is better for the zoo, because only 1/12 of the mistakes are consequential (8.3% of mistakes lets a bird out), whereas Algorithm 1 has 3/8 of its mistakes as consequential (37.5% of mistakes let a bird out).\n",
    "\n",
    "1c) New truth tables for 99 birds and 1 person...\n",
    "\n",
    "Algorithm 1: \n",
    "\n",
    "                True Bird   True Person\n",
    "\n",
    "     NN Bird     91          0\n",
    "     \n",
    "     NN Person    8          1\n",
    "     \n",
    "Algorithm 2:\n",
    "\n",
    "                True Bird    True Person\n",
    "                \n",
    "      NN Bird      97         0\n",
    "      \n",
    "      NN Person    2          1"
   ]
  },
  {
   "cell_type": "markdown",
   "metadata": {},
   "source": [
    "# Problem 2\n",
    "\n",
    "2a) The pdf of the sum of two identical exponential distributions is the same as the convolution of two idendical distributions, $\\lambda^{2}xe^{-\\lambda x}$. This is an Erlang distribution if shape parameter k is equal to 2.\n",
    "\n",
    "2b) The pdf of the ratio of two zero-mean unity variance normal distributions is the Cauchy distribution, $\\frac{1}{\\pi(x^{2}+1)}$.\n",
    "\n",
    "2c) The z value for X and Y coordinates correspond to their respective normal distribution evaluated at their particular x (or y) value. The amplitude of any vector is $\\sqrt{x^{2}+y^{2}}$, thus the amplitude of this vector is the square root of the addition of the square pdf's. Some normalization needs to occur before the actual value of the amplitude makes sense, but the shape (pdf) of this vector should also be a Gaussian."
   ]
  }
 ],
 "metadata": {
  "kernelspec": {
   "display_name": "Python 3",
   "language": "python",
   "name": "python3"
  },
  "language_info": {
   "codemirror_mode": {
    "name": "ipython",
    "version": 3
   },
   "file_extension": ".py",
   "mimetype": "text/x-python",
   "name": "python",
   "nbconvert_exporter": "python",
   "pygments_lexer": "ipython3",
   "version": "3.7.6"
  }
 },
 "nbformat": 4,
 "nbformat_minor": 4
}
